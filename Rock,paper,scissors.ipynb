{
 "cells": [
  {
   "cell_type": "code",
   "execution_count": 1,
   "metadata": {},
   "outputs": [],
   "source": [
    "import random"
   ]
  },
  {
   "cell_type": "code",
   "execution_count": null,
   "metadata": {},
   "outputs": [
    {
     "name": "stdout",
     "output_type": "stream",
     "text": [
      "enter choice or e for exit:  rock\n",
      "picked rock.\n",
      "You Lost!\n",
      "enter choice or e for exit:  paper\n",
      "picked paper.\n",
      "You Lost!\n"
     ]
    }
   ],
   "source": [
    "win1=0\n",
    "win2=0\n",
    "choice=[\"rock\",\"paper\",\"scissor\"]\n",
    "while True:\n",
    "    win=input(\"enter choice or e for exit:  \").lower()\n",
    "    if win == \"e\":\n",
    "        break\n",
    "    if win not in choice:\n",
    "        continue\n",
    "        \n",
    "    number=random.randint(0,2)\n",
    "    #0-rock,1-paper,2-scissor\n",
    "    pick=choice[number]\n",
    "    print(\"picked\",pick + \".\")\n",
    "\n",
    "    if input == \"paper\" and pick ==\"rock\":\n",
    "        print(\"You won!\")\n",
    "        win1 += 1\n",
    "    elif input == \"scissors\" and pick == \"paper\":\n",
    "        print(\"You Won!\")\n",
    "        win1 += 1 \n",
    "    \n",
    "    elif input == \"rock\" and pick == \"scissors\":\n",
    "        print(\"You won!\")\n",
    "        win1 += 1\n",
    "    else:\n",
    "        print(\"You Lost!\")\n",
    "        win2 += 1\n",
    "    \n",
    "print(\"You Won\",win1,\"times\")\n",
    "print(\"They Won!\",win2,\"times\")\n",
    "print(\"see you tomorrow!\")"
   ]
  },
  {
   "cell_type": "code",
   "execution_count": null,
   "metadata": {},
   "outputs": [],
   "source": []
  },
  {
   "cell_type": "code",
   "execution_count": null,
   "metadata": {},
   "outputs": [],
   "source": []
  }
 ],
 "metadata": {
  "kernelspec": {
   "display_name": "Python 3",
   "language": "python",
   "name": "python3"
  },
  "language_info": {
   "codemirror_mode": {
    "name": "ipython",
    "version": 3
   },
   "file_extension": ".py",
   "mimetype": "text/x-python",
   "name": "python",
   "nbconvert_exporter": "python",
   "pygments_lexer": "ipython3",
   "version": "3.8.3"
  }
 },
 "nbformat": 4,
 "nbformat_minor": 4
}
